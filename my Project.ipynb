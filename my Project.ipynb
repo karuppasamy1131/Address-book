{
 "cells": [
  {
   "cell_type": "code",
   "execution_count": 3,
   "id": "aaaee77e-006b-4467-8cbe-3f01252519ef",
   "metadata": {},
   "outputs": [
    {
     "name": "stdout",
     "output_type": "stream",
     "text": [
      "Contact 'PRASANTH' added successfully.\n",
      "Contact 'KARUPPASAMY' added successfully.\n",
      "Contact 'KAVIN' added successfully.\n",
      "Contact 'SABARI' added successfully.\n",
      "\n",
      "Contacts:\n",
      "Name: PRASANTH, Address: 267, PP SALAI, NAMAKKAL, Phone: 9874563210\n",
      "Name: KARUPPASAMY, Address: 456 Elm St, RAJAPALAYAM, Phone: 6369060554\n",
      "Name: KAVIN, Address: 420, PERIYAR NAGAR, KOVILPALAYAM, Phone: 9420420420\n",
      "Name: SABARI, Address: 69, KAMARAJAR NAGAR,SANTHOSAPALAYAM, Phone: 9421421421\n",
      "\n",
      "\n",
      "Searching...........\n",
      "Name: KARUPPASAMY\n",
      "Address: 456 Elm St, RAJAPALAYAM\n",
      "Phone: 6369060554\n",
      "\n",
      "\n",
      "Contact 'PRASANTH' deleted successfully.\n",
      "\n",
      "\n"
     ]
    }
   ],
   "source": [
    "class AddressBook:\n",
    "    def __init__(self):\n",
    "        self.contacts = {}\n",
    "\n",
    "    def add_contact(self, name, address, phone):\n",
    "        self.contacts[name] = {\"address\": address, \"phone\": phone}\n",
    "        print(f\"Contact '{name}' added successfully.\")\n",
    "\n",
    "    def delete_contact(self, name):\n",
    "        if name in self.contacts:\n",
    "            del self.contacts[name]\n",
    "            print(f\"Contact '{name}' deleted successfully.\")\n",
    "        else:\n",
    "            print(\"Contact not found.\")\n",
    "\n",
    "    def search_contact(self, name):\n",
    "        print(\"Searching...........\")\n",
    "        if name in self.contacts:\n",
    "            print(f\"Name: {name}\\nAddress: {self.contacts[name]['address']}\\nPhone: {self.contacts[name]['phone']}\")\n",
    "        else:\n",
    "            print(\"Contact not found.\")\n",
    "\n",
    "    def display_contacts(self):\n",
    "        if self.contacts:\n",
    "            print(\"\\nContacts:\")\n",
    "            for name, info in self.contacts.items():\n",
    "                print(f\"Name: {name}, Address: {info['address']}, Phone: {info['phone']}\")\n",
    "        else:\n",
    "            print(\"Address book is empty.\")\n",
    "\n",
    "# Example usage:\n",
    "address_book = AddressBook()\n",
    "address_book.add_contact(\"PRASANTH\", \"267, PP SALAI, NAMAKKAL\", \"9874563210\")\n",
    "address_book.add_contact(\"KARUPPASAMY\", \"456 Elm St, RAJAPALAYAM\", \"6369060554\",)\n",
    "address_book.add_contact(\"KAVIN\",\"420, PERIYAR NAGAR, KOVILPALAYAM\", \"9420420420\")\n",
    "address_book.add_contact(\"SABARI\",\"69, KAMARAJAR NAGAR,SANTHOSAPALAYAM\", \"9421421421\")\n",
    "\n",
    "address_book.display_contacts()\n",
    "print(\"\\n\")\n",
    "address_book.search_contact(\"KARUPPASAMY\")\n",
    "print(\"\\n\")\n",
    "address_book.delete_contact(\"PRASANTH\")\n",
    "print(\"\\n\")"
   ]
  },
  {
   "cell_type": "code",
   "execution_count": null,
   "id": "e779de72-0c41-41b0-b17d-3e8617c4adb5",
   "metadata": {},
   "outputs": [],
   "source": []
  }
 ],
 "metadata": {
  "kernelspec": {
   "display_name": "Python 3 (ipykernel)",
   "language": "python",
   "name": "python3"
  },
  "language_info": {
   "codemirror_mode": {
    "name": "ipython",
    "version": 3
   },
   "file_extension": ".py",
   "mimetype": "text/x-python",
   "name": "python",
   "nbconvert_exporter": "python",
   "pygments_lexer": "ipython3",
   "version": "3.11.7"
  }
 },
 "nbformat": 4,
 "nbformat_minor": 5
}
